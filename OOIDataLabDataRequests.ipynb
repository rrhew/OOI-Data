{
  "nbformat": 4,
  "nbformat_minor": 0,
  "metadata": {
    "colab": {
      "name": "OOIDataLabDataRequests.ipynb",
      "version": "0.3.2",
      "provenance": [],
      "collapsed_sections": [],
      "toc_visible": true,
      "machine_shape": "hm",
      "include_colab_link": true
    },
    "kernelspec": {
      "name": "python3",
      "display_name": "Python 3"
    }
  },
  "cells": [
    {
      "cell_type": "markdown",
      "metadata": {
        "id": "view-in-github",
        "colab_type": "text"
      },
      "source": [
        "<a href=\"https://colab.research.google.com/github/rrhew/OOI-Data/blob/master/OOIDataLabDataRequests.ipynb\" target=\"_parent\"><img src=\"https://colab.research.google.com/assets/colab-badge.svg\" alt=\"Open In Colab\"/></a>"
      ]
    },
    {
      "cell_type": "markdown",
      "metadata": {
        "id": "hooiUjXwrMDk",
        "colab_type": "text"
      },
      "source": [
        "# Requesting, saving, and merging OOI data\n",
        "\n",
        "## Requesting data\n",
        "Here I'm going to use a library called [yodapy](https://github.com/cormorack/yodapy) that was developed by a group at the University of Washington to request data from OOI.  For a fully annotated example, see the [OOI ECS Interdisciplinary Data Access Notebook](https://github.com/ooi-interdisciplinary-brilliance/InterdisciplinaryEvaluation/blob/master/dataAccess.ipynb)\n",
        "\n",
        "I'll start by installing the `yodapy` library and importing the packages I need."
      ]
    },
    {
      "cell_type": "code",
      "metadata": {
        "id": "ulahERVhrLhA",
        "colab_type": "code",
        "colab": {}
      },
      "source": [
        "!pip install yodapy\n",
        "from yodapy.datasources import OOI\n",
        "from yodapy.utils.creds import set_credentials_file\n",
        "import matplotlib.pyplot as plt"
      ],
      "execution_count": 0,
      "outputs": []
    },
    {
      "cell_type": "markdown",
      "metadata": {
        "id": "hkg9puoKrMoc",
        "colab_type": "text"
      },
      "source": [
        "To request data, you need to be registered with the OOI data portal. Below, you will have to set your credentials from the OOI data portal.  You can find these by logging into the data portal at https://ooinet.oceanobservatories.org/ and going to the 'My Profile' page, where your API username and token will be at the bottom."
      ]
    },
    {
      "cell_type": "code",
      "metadata": {
        "id": "ogiSC6_gZ7Zg",
        "colab_type": "code",
        "colab": {}
      },
      "source": [
        "set_credentials_file(data_source='ooi', username='OOIAPI-I0UCP16V67ENKZ', token='4CUPODF4AL256S')"
      ],
      "execution_count": 0,
      "outputs": []
    },
    {
      "cell_type": "markdown",
      "metadata": {
        "id": "8i8zt-n5rhkj",
        "colab_type": "text"
      },
      "source": [
        "Here is an example of requesting one data set.  We'll start by setting up the object and seeing what data is available."
      ]
    },
    {
      "cell_type": "code",
      "metadata": {
        "id": "syPJP0Qfb3bS",
        "colab_type": "code",
        "outputId": "a237bda9-f1fb-48b2-ec16-76e1a6c22a39",
        "colab": {
          "base_uri": "https://localhost:8080/",
          "height": 924
        }
      },
      "source": [
        "# First we initiate the ooi object\n",
        "ooi = OOI() \n",
        "\n",
        "# We can directly search the entire ooi database using keys like node, instrument, region, stream, etc.  The following is setup to get the \n",
        "# meteorological package data from the pioneer offshore surface mooring, and the data I want is the data that was telemetered\n",
        "OOISearch = ooi.search(instrument = 'metbk',region='pioneer',site='Offshore',stream  = 'metbk_a_dcl_instrument',stream_method = 'telemetered')\n",
        "\n",
        "# Next, we can check what the availability of the data is.  This will print out a plot of the data timeline that is available.\n",
        "OOISearch.data_availability()"
      ],
      "execution_count": 0,
      "outputs": [
        {
          "output_type": "stream",
          "text": [
            "/usr/local/lib/python3.6/dist-packages/urllib3/connectionpool.py:847: InsecureRequestWarning: Unverified HTTPS request is being made. Adding certificate verification is strongly advised. See: https://urllib3.readthedocs.io/en/latest/advanced-usage.html#ssl-warnings\n",
            "  InsecureRequestWarning)\n",
            "/usr/local/lib/python3.6/dist-packages/urllib3/connectionpool.py:847: InsecureRequestWarning: Unverified HTTPS request is being made. Adding certificate verification is strongly advised. See: https://urllib3.readthedocs.io/en/latest/advanced-usage.html#ssl-warnings\n",
            "  InsecureRequestWarning)\n",
            "/usr/local/lib/python3.6/dist-packages/urllib3/connectionpool.py:847: InsecureRequestWarning: Unverified HTTPS request is being made. Adding certificate verification is strongly advised. See: https://urllib3.readthedocs.io/en/latest/advanced-usage.html#ssl-warnings\n",
            "  InsecureRequestWarning)\n",
            "/usr/local/lib/python3.6/dist-packages/urllib3/connectionpool.py:847: InsecureRequestWarning: Unverified HTTPS request is being made. Adding certificate verification is strongly advised. See: https://urllib3.readthedocs.io/en/latest/advanced-usage.html#ssl-warnings\n",
            "  InsecureRequestWarning)\n",
            "/usr/local/lib/python3.6/dist-packages/urllib3/connectionpool.py:847: InsecureRequestWarning: Unverified HTTPS request is being made. Adding certificate verification is strongly advised. See: https://urllib3.readthedocs.io/en/latest/advanced-usage.html#ssl-warnings\n",
            "  InsecureRequestWarning)\n",
            "/usr/local/lib/python3.6/dist-packages/urllib3/connectionpool.py:847: InsecureRequestWarning: Unverified HTTPS request is being made. Adding certificate verification is strongly advised. See: https://urllib3.readthedocs.io/en/latest/advanced-usage.html#ssl-warnings\n",
            "  InsecureRequestWarning)\n",
            "/usr/local/lib/python3.6/dist-packages/urllib3/connectionpool.py:847: InsecureRequestWarning: Unverified HTTPS request is being made. Adding certificate verification is strongly advised. See: https://urllib3.readthedocs.io/en/latest/advanced-usage.html#ssl-warnings\n",
            "  InsecureRequestWarning)\n",
            "/usr/local/lib/python3.6/dist-packages/pandas/core/indexing.py:635: SettingWithCopyWarning: \n",
            "A value is trying to be set on a copy of a slice from a DataFrame.\n",
            "Try using .loc[row_indexer,col_indexer] = value instead\n",
            "\n",
            "See the caveats in the documentation: http://pandas.pydata.org/pandas-docs/stable/indexing.html#indexing-view-versus-copy\n",
            "  self.obj[item_labels[indexer[info_axis]]] = value\n",
            "/usr/local/lib/python3.6/dist-packages/urllib3/connectionpool.py:847: InsecureRequestWarning: Unverified HTTPS request is being made. Adding certificate verification is strongly advised. See: https://urllib3.readthedocs.io/en/latest/advanced-usage.html#ssl-warnings\n",
            "  InsecureRequestWarning)\n"
          ],
          "name": "stderr"
        },
        {
          "output_type": "execute_result",
          "data": {
            "text/html": [
              "<div>\n",
              "<style scoped>\n",
              "    .dataframe tbody tr th:only-of-type {\n",
              "        vertical-align: middle;\n",
              "    }\n",
              "\n",
              "    .dataframe tbody tr th {\n",
              "        vertical-align: top;\n",
              "    }\n",
              "\n",
              "    .dataframe thead th {\n",
              "        text-align: right;\n",
              "    }\n",
              "</style>\n",
              "<table border=\"1\" class=\"dataframe\">\n",
              "  <thead>\n",
              "    <tr style=\"text-align: right;\">\n",
              "      <th></th>\n",
              "      <th>CP04OSSM-SBD11-06-METBKA000-telemetered-metbk_a_dcl_instrument</th>\n",
              "    </tr>\n",
              "  </thead>\n",
              "  <tbody>\n",
              "    <tr>\n",
              "      <th>0</th>\n",
              "      <td>Coastal Pioneer</td>\n",
              "    </tr>\n",
              "    <tr>\n",
              "      <th>1</th>\n",
              "      <td>Offshore Surface Mooring</td>\n",
              "    </tr>\n",
              "    <tr>\n",
              "      <th>2</th>\n",
              "      <td>Surface Buoy</td>\n",
              "    </tr>\n",
              "    <tr>\n",
              "      <th>3</th>\n",
              "      <td>Bulk Meteorology Instrument Package</td>\n",
              "    </tr>\n",
              "    <tr>\n",
              "      <th>4</th>\n",
              "      <td>telemetered</td>\n",
              "    </tr>\n",
              "    <tr>\n",
              "      <th>5</th>\n",
              "      <td>metbk_a_dcl_instrument</td>\n",
              "    </tr>\n",
              "  </tbody>\n",
              "</table>\n",
              "</div>"
            ],
            "text/plain": [
              "  CP04OSSM-SBD11-06-METBKA000-telemetered-metbk_a_dcl_instrument\n",
              "0                                    Coastal Pioneer            \n",
              "1                           Offshore Surface Mooring            \n",
              "2                                       Surface Buoy            \n",
              "3                Bulk Meteorology Instrument Package            \n",
              "4                                        telemetered            \n",
              "5                             metbk_a_dcl_instrument            "
            ]
          },
          "metadata": {
            "tags": []
          },
          "execution_count": 3
        },
        {
          "output_type": "display_data",
          "data": {
            "image/png": "[encoded data removed]",
            "text/plain": [
              "<Figure size 1440x720 with 2 Axes>"
            ]
          },
          "metadata": {
            "tags": []
          }
        }
      ]
    },
    {
      "cell_type": "markdown",
      "metadata": {
        "id": "J4HSwlLiuEbC",
        "colab_type": "text"
      },
      "source": [
        "Now that we know what's there, I'm going to send a request and then read the dataset into my notebook."
      ]
    },
    {
      "cell_type": "code",
      "metadata": {
        "id": "IRKTYUSPsGa9",
        "colab_type": "code",
        "outputId": "83a4d998-542b-4a54-cb96-27f95cbbcb03",
        "colab": {
          "base_uri": "https://localhost:8080/",
          "height": 564
        }
      },
      "source": [
        "# The next step is to decide what period of data we want.  This can be done just by setting a start and end date, and then sending the request.\n",
        "OOISearch.request_data(begin_date='2018-07-01', end_date='2019-01-01')\n",
        "\n",
        "#These two lines will continue to check to see if the data is compiled on the server yet.\n",
        "OOISearch.check_status()\n",
        "# Once it is ready, we can automatically use xarray to read in our datasets.\n",
        "OOISearch_list = OOISearch.to_xarray()\n",
        "# Since we could request  more than one dataset at once using this method, you have to \n",
        "# specifically separate the datasets (think of this as a list where each element in the list is a dataset).  \n",
        "# Since we only asked for one dataset here, we will take element [0] and assign it a name.\n",
        "dsMet = OOISearch_list[0]"
      ],
      "execution_count": 0,
      "outputs": [
        {
          "output_type": "stream",
          "text": [
            "/usr/local/lib/python3.6/dist-packages/urllib3/connectionpool.py:847: InsecureRequestWarning: Unverified HTTPS request is being made. Adding certificate verification is strongly advised. See: https://urllib3.readthedocs.io/en/latest/advanced-usage.html#ssl-warnings\n",
            "  InsecureRequestWarning)\n",
            "(MainThread) Your data (https://opendap.oceanobservatories.org/async_results/leviner@uw.edu/20190726T214001551Z-CP04OSSM-SBD11-06-METBKA000-telemetered-metbk_a_dcl_instrument) is still compiling... Please wait.\n"
          ],
          "name": "stderr"
        },
        {
          "output_type": "stream",
          "text": [
            "Your data (https://opendap.oceanobservatories.org/async_results/leviner@uw.edu/20190726T214001551Z-CP04OSSM-SBD11-06-METBKA000-telemetered-metbk_a_dcl_instrument) is still compiling... Please wait.\n"
          ],
          "name": "stdout"
        },
        {
          "output_type": "stream",
          "text": [
            "(MainThread) Your data (https://opendap.oceanobservatories.org/async_results/leviner@uw.edu/20190726T214001551Z-CP04OSSM-SBD11-06-METBKA000-telemetered-metbk_a_dcl_instrument) is still compiling... Please wait.\n"
          ],
          "name": "stderr"
        },
        {
          "output_type": "stream",
          "text": [
            "Your data (https://opendap.oceanobservatories.org/async_results/leviner@uw.edu/20190726T214001551Z-CP04OSSM-SBD11-06-METBKA000-telemetered-metbk_a_dcl_instrument) is still compiling... Please wait.\n"
          ],
          "name": "stdout"
        },
        {
          "output_type": "stream",
          "text": [
            "(MainThread) Data request time elapsed: 10s\n"
          ],
          "name": "stderr"
        },
        {
          "output_type": "stream",
          "text": [
            "Data request time elapsed: 10s\n"
          ],
          "name": "stdout"
        },
        {
          "output_type": "stream",
          "text": [
            "(MainThread) Your data (https://opendap.oceanobservatories.org/async_results/leviner@uw.edu/20190726T214001551Z-CP04OSSM-SBD11-06-METBKA000-telemetered-metbk_a_dcl_instrument) is still compiling... Please wait.\n"
          ],
          "name": "stderr"
        },
        {
          "output_type": "stream",
          "text": [
            "Your data (https://opendap.oceanobservatories.org/async_results/leviner@uw.edu/20190726T214001551Z-CP04OSSM-SBD11-06-METBKA000-telemetered-metbk_a_dcl_instrument) is still compiling... Please wait.\n"
          ],
          "name": "stdout"
        },
        {
          "output_type": "stream",
          "text": [
            "(MainThread) Data request time elapsed: 20s\n"
          ],
          "name": "stderr"
        },
        {
          "output_type": "stream",
          "text": [
            "Data request time elapsed: 20s\n"
          ],
          "name": "stdout"
        },
        {
          "output_type": "stream",
          "text": [
            "(MainThread) Your data (https://opendap.oceanobservatories.org/async_results/leviner@uw.edu/20190726T214001551Z-CP04OSSM-SBD11-06-METBKA000-telemetered-metbk_a_dcl_instrument) is still compiling... Please wait.\n"
          ],
          "name": "stderr"
        },
        {
          "output_type": "stream",
          "text": [
            "Your data (https://opendap.oceanobservatories.org/async_results/leviner@uw.edu/20190726T214001551Z-CP04OSSM-SBD11-06-METBKA000-telemetered-metbk_a_dcl_instrument) is still compiling... Please wait.\n"
          ],
          "name": "stdout"
        },
        {
          "output_type": "stream",
          "text": [
            "(MainThread) Data request time elapsed: 31s\n"
          ],
          "name": "stderr"
        },
        {
          "output_type": "stream",
          "text": [
            "Data request time elapsed: 31s\n"
          ],
          "name": "stdout"
        },
        {
          "output_type": "stream",
          "text": [
            "(MainThread) Your data (https://opendap.oceanobservatories.org/async_results/leviner@uw.edu/20190726T214001551Z-CP04OSSM-SBD11-06-METBKA000-telemetered-metbk_a_dcl_instrument) is still compiling... Please wait.\n"
          ],
          "name": "stderr"
        },
        {
          "output_type": "stream",
          "text": [
            "Your data (https://opendap.oceanobservatories.org/async_results/leviner@uw.edu/20190726T214001551Z-CP04OSSM-SBD11-06-METBKA000-telemetered-metbk_a_dcl_instrument) is still compiling... Please wait.\n"
          ],
          "name": "stdout"
        },
        {
          "output_type": "stream",
          "text": [
            "(MainThread) Data request time elapsed: 42s\n"
          ],
          "name": "stderr"
        },
        {
          "output_type": "stream",
          "text": [
            "Data request time elapsed: 42s\n"
          ],
          "name": "stdout"
        },
        {
          "output_type": "stream",
          "text": [
            "(MainThread) Your data (https://opendap.oceanobservatories.org/async_results/leviner@uw.edu/20190726T214001551Z-CP04OSSM-SBD11-06-METBKA000-telemetered-metbk_a_dcl_instrument) is still compiling... Please wait.\n"
          ],
          "name": "stderr"
        },
        {
          "output_type": "stream",
          "text": [
            "Your data (https://opendap.oceanobservatories.org/async_results/leviner@uw.edu/20190726T214001551Z-CP04OSSM-SBD11-06-METBKA000-telemetered-metbk_a_dcl_instrument) is still compiling... Please wait.\n"
          ],
          "name": "stdout"
        },
        {
          "output_type": "stream",
          "text": [
            "(MainThread) Data request time elapsed: 53s\n"
          ],
          "name": "stderr"
        },
        {
          "output_type": "stream",
          "text": [
            "Data request time elapsed: 53s\n"
          ],
          "name": "stdout"
        },
        {
          "output_type": "stream",
          "text": [
            "(MainThread) Your data (https://opendap.oceanobservatories.org/async_results/leviner@uw.edu/20190726T214001551Z-CP04OSSM-SBD11-06-METBKA000-telemetered-metbk_a_dcl_instrument) is still compiling... Please wait.\n"
          ],
          "name": "stderr"
        },
        {
          "output_type": "stream",
          "text": [
            "Your data (https://opendap.oceanobservatories.org/async_results/leviner@uw.edu/20190726T214001551Z-CP04OSSM-SBD11-06-METBKA000-telemetered-metbk_a_dcl_instrument) is still compiling... Please wait.\n"
          ],
          "name": "stdout"
        },
        {
          "output_type": "stream",
          "text": [
            "(MainThread) Data request time elapsed: 63s\n"
          ],
          "name": "stderr"
        },
        {
          "output_type": "stream",
          "text": [
            "Data request time elapsed: 63s\n"
          ],
          "name": "stdout"
        },
        {
          "output_type": "stream",
          "text": [
            "(MainThread) Request (https://opendap.oceanobservatories.org/async_results/leviner@uw.edu/20190726T214001551Z-CP04OSSM-SBD11-06-METBKA000-telemetered-metbk_a_dcl_instrument) completed.\n"
          ],
          "name": "stderr"
        },
        {
          "output_type": "stream",
          "text": [
            "Request (https://opendap.oceanobservatories.org/async_results/leviner@uw.edu/20190726T214001551Z-CP04OSSM-SBD11-06-METBKA000-telemetered-metbk_a_dcl_instrument) completed.\n"
          ],
          "name": "stdout"
        },
        {
          "output_type": "stream",
          "text": [
            "(MainThread) Acquiring data from opendap urls ...\n"
          ],
          "name": "stderr"
        }
      ]
    },
    {
      "cell_type": "markdown",
      "metadata": {
        "id": "0SqNKdXGuK1Y",
        "colab_type": "text"
      },
      "source": [
        "## Look at what is insiide the dataframe/dataset\n",
        "\n",
        "Now I can switch my dataset to a pandas dataframe, which resemebles a table rather than a netCDF file.**bold text**"
      ]
    },
    {
      "cell_type": "code",
      "metadata": {
        "id": "krNZAt8Gs7td",
        "colab_type": "code",
        "colab": {}
      },
      "source": [
        "# These datasets come in indexed by observation number, so we will first change it time.\n",
        "dsMet = dsMet.swap_dims(({'obs':'time'}));\n",
        "# Then, since I'm going to want to export as a csv file, I am going to change the dataset (netcdf file) to dataframe (csv format),  This can take a while.\n",
        "dfMet = dsMet.to_dataframe()"
      ],
      "execution_count": 0,
      "outputs": []
    },
    {
      "cell_type": "markdown",
      "metadata": {
        "id": "8u8aSGboOHHn",
        "colab_type": "text"
      },
      "source": [
        "We can plot the data either way, both from the dataset..."
      ]
    },
    {
      "cell_type": "code",
      "metadata": {
        "id": "mMKs7H-mOG1O",
        "colab_type": "code",
        "outputId": "86a81340-3e4c-4340-d5a4-df34a5748335",
        "colab": {
          "base_uri": "https://localhost:8080/",
          "height": 1000
        }
      },
      "source": [
        "display(dsMet) # show what is inside the dataset\n",
        "dsMet.barometric_pressure.plot() # plot the pressure from the dataset.  Our primary dimesion is time."
      ],
      "execution_count": 0,
      "outputs": [
        {
          "output_type": "display_data",
          "data": {
            "text/plain": [
              "<xarray.Dataset>\n",
              "Dimensions:                               (time: 269485)\n",
              "Coordinates:\n",
              "    obs                                   (time) int64 0 1 2 ... 172492 172493\n",
              "  * time                                  (time) datetime64[ns] 2018-10-25T15:31:05.277000192 ... 2018-10-30T14:29:28.517000192\n",
              "    lat                                   (time) float64 dask.array<shape=(269485,), chunksize=(96991,)>\n",
              "    lon                                   (time) float64 dask.array<shape=(269485,), chunksize=(96991,)>\n",
              "Data variables:\n",
              "    deployment                            (time) int32 dask.array<shape=(269485,), chunksize=(96991,)>\n",
              "    id                                    (time) |S64 dask.array<shape=(269485,), chunksize=(96991,)>\n",
              "    air_temperature                       (time) float32 dask.array<shape=(269485,), chunksize=(96991,)>\n",
              "    barometric_pressure                   (time) float32 dask.array<shape=(269485,), chunksize=(96991,)>\n",
              "    dcl_controller_timestamp              (time) object dask.array<shape=(269485,), chunksize=(96991,)>\n",
              "    driver_timestamp                      (time) datetime64[ns] dask.array<shape=(269485,), chunksize=(96991,)>\n",
              "    eastward_wind_velocity                (time) float32 dask.array<shape=(269485,), chunksize=(96991,)>\n",
              "    ingestion_timestamp                   (time) datetime64[ns] dask.array<shape=(269485,), chunksize=(96991,)>\n",
              "    internal_timestamp                    (time) datetime64[ns] dask.array<shape=(269485,), chunksize=(96991,)>\n",
              "    longwave_irradiance                   (time) float32 dask.array<shape=(269485,), chunksize=(96991,)>\n",
              "    northward_wind_velocity               (time) float32 dask.array<shape=(269485,), chunksize=(96991,)>\n",
              "    port_timestamp                        (time) datetime64[ns] dask.array<shape=(269485,), chunksize=(96991,)>\n",
              "    precipitation                         (time) float32 dask.array<shape=(269485,), chunksize=(96991,)>\n",
              "    preferred_timestamp                   (time) object dask.array<shape=(269485,), chunksize=(96991,)>\n",
              "    relative_humidity                     (time) float32 dask.array<shape=(269485,), chunksize=(96991,)>\n",
              "    sea_surface_conductivity              (time) float32 dask.array<shape=(269485,), chunksize=(96991,)>\n",
              "    sea_surface_temperature               (time) float32 dask.array<shape=(269485,), chunksize=(96991,)>\n",
              "    shortwave_irradiance                  (time) float32 dask.array<shape=(269485,), chunksize=(96991,)>\n",
              "    met_barpres                           (time) float32 dask.array<shape=(269485,), chunksize=(96991,)>\n",
              "    met_netsirr                           (time) float32 dask.array<shape=(269485,), chunksize=(96991,)>\n",
              "    met_spechum                           (time) float32 dask.array<shape=(269485,), chunksize=(96991,)>\n",
              "    eastward_velocity                     (time) float64 dask.array<shape=(269485,), chunksize=(96991,)>\n",
              "    northward_velocity                    (time) float64 dask.array<shape=(269485,), chunksize=(96991,)>\n",
              "    met_windavg_mag_corr_east             (time) float64 dask.array<shape=(269485,), chunksize=(96991,)>\n",
              "    met_windavg_mag_corr_north            (time) float64 dask.array<shape=(269485,), chunksize=(96991,)>\n",
              "    met_current_direction                 (time) float64 dask.array<shape=(269485,), chunksize=(96991,)>\n",
              "    met_current_speed                     (time) float64 dask.array<shape=(269485,), chunksize=(96991,)>\n",
              "    met_relwind_direction                 (time) float64 dask.array<shape=(269485,), chunksize=(96991,)>\n",
              "    met_relwind_speed                     (time) float64 dask.array<shape=(269485,), chunksize=(96991,)>\n",
              "    met_salsurf                           (time) float64 dask.array<shape=(269485,), chunksize=(96991,)>\n",
              "    met_heatflx_minute                    (time) float64 dask.array<shape=(269485,), chunksize=(96991,)>\n",
              "    met_latnflx_minute                    (time) float64 dask.array<shape=(269485,), chunksize=(96991,)>\n",
              "    met_netlirr_minute                    (time) float64 dask.array<shape=(269485,), chunksize=(96991,)>\n",
              "    met_sensflx_minute                    (time) float64 dask.array<shape=(269485,), chunksize=(96991,)>\n",
              "    ct_depth                              (time) float64 dask.array<shape=(269485,), chunksize=(96991,)>\n",
              "    barometric_pressure_qc_executed       (time) float32 dask.array<shape=(269485,), chunksize=(96991,)>\n",
              "    barometric_pressure_qc_results        (time) float32 dask.array<shape=(269485,), chunksize=(96991,)>\n",
              "    relative_humidity_qc_executed         (time) float32 dask.array<shape=(269485,), chunksize=(96991,)>\n",
              "    relative_humidity_qc_results          (time) float32 dask.array<shape=(269485,), chunksize=(96991,)>\n",
              "    air_temperature_qc_executed           (time) float32 dask.array<shape=(269485,), chunksize=(96991,)>\n",
              "    air_temperature_qc_results            (time) float32 dask.array<shape=(269485,), chunksize=(96991,)>\n",
              "    longwave_irradiance_qc_executed       (time) float32 dask.array<shape=(269485,), chunksize=(96991,)>\n",
              "    longwave_irradiance_qc_results        (time) float32 dask.array<shape=(269485,), chunksize=(96991,)>\n",
              "    precipitation_qc_executed             (time) float32 dask.array<shape=(269485,), chunksize=(96991,)>\n",
              "    precipitation_qc_results              (time) float32 dask.array<shape=(269485,), chunksize=(96991,)>\n",
              "    sea_surface_temperature_qc_executed   (time) float32 dask.array<shape=(269485,), chunksize=(96991,)>\n",
              "    sea_surface_temperature_qc_results    (time) float32 dask.array<shape=(269485,), chunksize=(96991,)>\n",
              "    sea_surface_conductivity_qc_executed  (time) float32 dask.array<shape=(269485,), chunksize=(96991,)>\n",
              "    sea_surface_conductivity_qc_results   (time) float32 dask.array<shape=(269485,), chunksize=(96991,)>\n",
              "    shortwave_irradiance_qc_executed      (time) float32 dask.array<shape=(269485,), chunksize=(96991,)>\n",
              "    shortwave_irradiance_qc_results       (time) float32 dask.array<shape=(269485,), chunksize=(96991,)>\n",
              "    eastward_wind_velocity_qc_executed    (time) float32 dask.array<shape=(269485,), chunksize=(96991,)>\n",
              "    eastward_wind_velocity_qc_results     (time) float32 dask.array<shape=(269485,), chunksize=(96991,)>\n",
              "    northward_wind_velocity_qc_executed   (time) float32 dask.array<shape=(269485,), chunksize=(96991,)>\n",
              "    northward_wind_velocity_qc_results    (time) float32 dask.array<shape=(269485,), chunksize=(96991,)>\n",
              "    met_barpres_qc_executed               (time) float32 dask.array<shape=(269485,), chunksize=(96991,)>\n",
              "    met_barpres_qc_results                (time) float32 dask.array<shape=(269485,), chunksize=(96991,)>\n",
              "    met_current_direction_qc_executed     (time) float32 dask.array<shape=(269485,), chunksize=(96991,)>\n",
              "    met_current_direction_qc_results      (time) float32 dask.array<shape=(269485,), chunksize=(96991,)>\n",
              "    met_current_speed_qc_executed         (time) float32 dask.array<shape=(269485,), chunksize=(96991,)>\n",
              "    met_current_speed_qc_results          (time) float32 dask.array<shape=(269485,), chunksize=(96991,)>\n",
              "    met_relwind_direction_qc_executed     (time) float32 dask.array<shape=(269485,), chunksize=(96991,)>\n",
              "    met_relwind_direction_qc_results      (time) float32 dask.array<shape=(269485,), chunksize=(96991,)>\n",
              "    met_relwind_speed_qc_executed         (time) float32 dask.array<shape=(269485,), chunksize=(96991,)>\n",
              "    met_relwind_speed_qc_results          (time) float32 dask.array<shape=(269485,), chunksize=(96991,)>\n",
              "    met_netsirr_qc_executed               (time) float32 dask.array<shape=(269485,), chunksize=(96991,)>\n",
              "    met_netsirr_qc_results                (time) float32 dask.array<shape=(269485,), chunksize=(96991,)>\n",
              "    met_salsurf_qc_executed               (time) float32 dask.array<shape=(269485,), chunksize=(96991,)>\n",
              "    met_salsurf_qc_results                (time) float32 dask.array<shape=(269485,), chunksize=(96991,)>\n",
              "    met_spechum_qc_executed               (time) float32 dask.array<shape=(269485,), chunksize=(96991,)>\n",
              "    met_spechum_qc_results                (time) float32 dask.array<shape=(269485,), chunksize=(96991,)>\n",
              "Attributes:\n",
              "    _NCProperties:                   version=1|netcdflibversion=4.4.1.1|hdf5l...\n",
              "    node:                            SBD11\n",
              "    comment:                         \n",
              "    publisher_email:                 \n",
              "    sourceUrl:                       http://oceanobservatories.org/\n",
              "    collection_method:               telemetered\n",
              "    stream:                          metbk_a_dcl_instrument\n",
              "    featureType:                     point\n",
              "    creator_email:                   \n",
              "    publisher_name:                  Ocean Observatories Initiative\n",
              "    date_modified:                   2019-07-26T21:40:30.860837\n",
              "    keywords:                        \n",
              "    cdm_data_type:                   Point\n",
              "    references:                      More information can be found at http://...\n",
              "    Metadata_Conventions:            Unidata Dataset Discovery v1.0\n",
              "    date_created:                    2019-07-26T21:40:30.860830\n",
              "    id:                              CP04OSSM-SBD11-06-METBKA000-telemetered-...\n",
              "    requestUUID:                     069b47d6-e90d-4f6f-b514-f6b925b28da0\n",
              "    contributor_role:                \n",
              "    summary:                         Dataset Generated by Stream Engine from ...\n",
              "    keywords_vocabulary:             \n",
              "    institution:                     Ocean Observatories Initiative\n",
              "    naming_authority:                org.oceanobservatories\n",
              "    feature_Type:                    point\n",
              "    infoUrl:                         http://oceanobservatories.org/\n",
              "    license:                         \n",
              "    contributor_name:                \n",
              "    uuid:                            069b47d6-e90d-4f6f-b514-f6b925b28da0\n",
              "    creator_name:                    Ocean Observatories Initiative\n",
              "    title:                           Data produced by Stream Engine version 1...\n",
              "    sensor:                          06-METBKA000\n",
              "    standard_name_vocabulary:        NetCDF Climate and Forecast (CF) Metadat...\n",
              "    acknowledgement:                 \n",
              "    Conventions:                     CF-1.6\n",
              "    project:                         Ocean Observatories Initiative\n",
              "    source:                          CP04OSSM-SBD11-06-METBKA000-telemetered-...\n",
              "    publisher_url:                   http://oceanobservatories.org/\n",
              "    creator_url:                     http://oceanobservatories.org/\n",
              "    nodc_template_version:           NODC_NetCDF_TimeSeries_Orthogonal_Templa...\n",
              "    subsite:                         CP04OSSM\n",
              "    processing_level:                L2\n",
              "    history:                         2019-07-26T21:40:30.860749 generated fro...\n",
              "    time_coverage_start:             2018-10-25T15:31:05.277000\n",
              "    time_coverage_end:               2018-12-31T23:59:43.768000\n",
              "    time_coverage_resolution:        P60.00S\n",
              "    geospatial_lat_min:              39.93608\n",
              "    geospatial_lat_max:              39.93608\n",
              "    geospatial_lat_units:            degrees_north\n",
              "    geospatial_lat_resolution:       0.1\n",
              "    geospatial_lon_min:              -70.88498\n",
              "    geospatial_lon_max:              -70.88498\n",
              "    geospatial_lon_units:            degrees_east\n",
              "    geospatial_lon_resolution:       0.1\n",
              "    geospatial_vertical_units:       meters\n",
              "    geospatial_vertical_resolution:  0.1\n",
              "    geospatial_vertical_positive:    down\n",
              "    DODS.strlen:                     14\n",
              "    DODS.dimName:                    string14\n",
              "    DODS_EXTRA.Unlimited_Dimension:  obs"
            ]
          },
          "metadata": {
            "tags": []
          }
        },
        {
          "output_type": "stream",
          "text": [
            "/usr/local/lib/python3.6/dist-packages/pandas/plotting/_converter.py:129: FutureWarning: Using an implicitly registered datetime converter for a matplotlib plotting method. The converter was registered by pandas on import. Future versions of pandas will require you to explicitly register matplotlib converters.\n",
            "\n",
            "To register the converters:\n",
            "\t>>> from pandas.plotting import register_matplotlib_converters\n",
            "\t>>> register_matplotlib_converters()\n",
            "  warnings.warn(msg, FutureWarning)\n"
          ],
          "name": "stderr"
        },
        {
          "output_type": "execute_result",
          "data": {
            "text/plain": [
              "[<matplotlib.lines.Line2D at 0x7fa3cb6f3b38>]"
            ]
          },
          "metadata": {
            "tags": []
          },
          "execution_count": 7
        },
        {
          "output_type": "display_data",
          "data": {
            "image/png": "[encoded data removed]",
            "text/plain": [
              "<Figure size 432x288 with 1 Axes>"
            ]
          },
          "metadata": {
            "tags": []
          }
        }
      ]
    },
    {
      "cell_type": "markdown",
      "metadata": {
        "id": "be9smpjFSO6s",
        "colab_type": "text"
      },
      "source": [
        "...or from the dataframe"
      ]
    },
    {
      "cell_type": "code",
      "metadata": {
        "id": "u9w6GrFpRvCB",
        "colab_type": "code",
        "outputId": "f2380e40-b35a-47eb-8588-2b7980c42fdd",
        "colab": {
          "base_uri": "https://localhost:8080/",
          "height": 784
        }
      },
      "source": [
        "display(dfMet.head(5)) # look at the columns of the dataframe by printing the head\n",
        "plt.plot(dfMet.index,dfMet.barometric_pressure) # use matplotlib to plot time (the index) vs pressure from the datatframe"
      ],
      "execution_count": 0,
      "outputs": [
        {
          "output_type": "display_data",
          "data": {
            "text/html": [
              "<div>\n",
              "<style scoped>\n",
              "    .dataframe tbody tr th:only-of-type {\n",
              "        vertical-align: middle;\n",
              "    }\n",
              "\n",
              "    .dataframe tbody tr th {\n",
              "        vertical-align: top;\n",
              "    }\n",
              "\n",
              "    .dataframe thead th {\n",
              "        text-align: right;\n",
              "    }\n",
              "</style>\n",
              "<table border=\"1\" class=\"dataframe\">\n",
              "  <thead>\n",
              "    <tr style=\"text-align: right;\">\n",
              "      <th></th>\n",
              "      <th>obs</th>\n",
              "      <th>deployment</th>\n",
              "      <th>id</th>\n",
              "      <th>air_temperature</th>\n",
              "      <th>barometric_pressure</th>\n",
              "      <th>dcl_controller_timestamp</th>\n",
              "      <th>driver_timestamp</th>\n",
              "      <th>eastward_wind_velocity</th>\n",
              "      <th>ingestion_timestamp</th>\n",
              "      <th>internal_timestamp</th>\n",
              "      <th>longwave_irradiance</th>\n",
              "      <th>northward_wind_velocity</th>\n",
              "      <th>port_timestamp</th>\n",
              "      <th>precipitation</th>\n",
              "      <th>preferred_timestamp</th>\n",
              "      <th>relative_humidity</th>\n",
              "      <th>sea_surface_conductivity</th>\n",
              "      <th>sea_surface_temperature</th>\n",
              "      <th>shortwave_irradiance</th>\n",
              "      <th>met_barpres</th>\n",
              "      <th>met_netsirr</th>\n",
              "      <th>met_spechum</th>\n",
              "      <th>eastward_velocity</th>\n",
              "      <th>northward_velocity</th>\n",
              "      <th>met_windavg_mag_corr_east</th>\n",
              "      <th>met_windavg_mag_corr_north</th>\n",
              "      <th>met_current_direction</th>\n",
              "      <th>met_current_speed</th>\n",
              "      <th>met_relwind_direction</th>\n",
              "      <th>met_relwind_speed</th>\n",
              "      <th>met_salsurf</th>\n",
              "      <th>met_heatflx_minute</th>\n",
              "      <th>met_latnflx_minute</th>\n",
              "      <th>met_netlirr_minute</th>\n",
              "      <th>met_sensflx_minute</th>\n",
              "      <th>ct_depth</th>\n",
              "      <th>barometric_pressure_qc_executed</th>\n",
              "      <th>barometric_pressure_qc_results</th>\n",
              "      <th>relative_humidity_qc_executed</th>\n",
              "      <th>relative_humidity_qc_results</th>\n",
              "      <th>air_temperature_qc_executed</th>\n",
              "      <th>air_temperature_qc_results</th>\n",
              "      <th>longwave_irradiance_qc_executed</th>\n",
              "      <th>longwave_irradiance_qc_results</th>\n",
              "      <th>precipitation_qc_executed</th>\n",
              "      <th>precipitation_qc_results</th>\n",
              "      <th>sea_surface_temperature_qc_executed</th>\n",
              "      <th>sea_surface_temperature_qc_results</th>\n",
              "      <th>sea_surface_conductivity_qc_executed</th>\n",
              "      <th>sea_surface_conductivity_qc_results</th>\n",
              "      <th>shortwave_irradiance_qc_executed</th>\n",
              "      <th>shortwave_irradiance_qc_results</th>\n",
              "      <th>eastward_wind_velocity_qc_executed</th>\n",
              "      <th>eastward_wind_velocity_qc_results</th>\n",
              "      <th>northward_wind_velocity_qc_executed</th>\n",
              "      <th>northward_wind_velocity_qc_results</th>\n",
              "      <th>met_barpres_qc_executed</th>\n",
              "      <th>met_barpres_qc_results</th>\n",
              "      <th>met_current_direction_qc_executed</th>\n",
              "      <th>met_current_direction_qc_results</th>\n",
              "      <th>met_current_speed_qc_executed</th>\n",
              "      <th>met_current_speed_qc_results</th>\n",
              "      <th>met_relwind_direction_qc_executed</th>\n",
              "      <th>met_relwind_direction_qc_results</th>\n",
              "      <th>met_relwind_speed_qc_executed</th>\n",
              "      <th>met_relwind_speed_qc_results</th>\n",
              "      <th>met_netsirr_qc_executed</th>\n",
              "      <th>met_netsirr_qc_results</th>\n",
              "      <th>met_salsurf_qc_executed</th>\n",
              "      <th>met_salsurf_qc_results</th>\n",
              "      <th>met_spechum_qc_executed</th>\n",
              "      <th>met_spechum_qc_results</th>\n",
              "      <th>lat</th>\n",
              "      <th>lon</th>\n",
              "    </tr>\n",
              "    <tr>\n",
              "      <th>time</th>\n",
              "      <th></th>\n",
              "      <th></th>\n",
              "      <th></th>\n",
              "      <th></th>\n",
              "      <th></th>\n",
              "      <th></th>\n",
              "      <th></th>\n",
              "      <th></th>\n",
              "      <th></th>\n",
              "      <th></th>\n",
              "      <th></th>\n",
              "      <th></th>\n",
              "      <th></th>\n",
              "      <th></th>\n",
              "      <th></th>\n",
              "      <th></th>\n",
              "      <th></th>\n",
              "      <th></th>\n",
              "      <th></th>\n",
              "      <th></th>\n",
              "      <th></th>\n",
              "      <th></th>\n",
              "      <th></th>\n",
              "      <th></th>\n",
              "      <th></th>\n",
              "      <th></th>\n",
              "      <th></th>\n",
              "      <th></th>\n",
              "      <th></th>\n",
              "      <th></th>\n",
              "      <th></th>\n",
              "      <th></th>\n",
              "      <th></th>\n",
              "      <th></th>\n",
              "      <th></th>\n",
              "      <th></th>\n",
              "      <th></th>\n",
              "      <th></th>\n",
              "      <th></th>\n",
              "      <th></th>\n",
              "      <th></th>\n",
              "      <th></th>\n",
              "      <th></th>\n",
              "      <th></th>\n",
              "      <th></th>\n",
              "      <th></th>\n",
              "      <th></th>\n",
              "      <th></th>\n",
              "      <th></th>\n",
              "      <th></th>\n",
              "      <th></th>\n",
              "      <th></th>\n",
              "      <th></th>\n",
              "      <th></th>\n",
              "      <th></th>\n",
              "      <th></th>\n",
              "      <th></th>\n",
              "      <th></th>\n",
              "      <th></th>\n",
              "      <th></th>\n",
              "      <th></th>\n",
              "      <th></th>\n",
              "      <th></th>\n",
              "      <th></th>\n",
              "      <th></th>\n",
              "      <th></th>\n",
              "      <th></th>\n",
              "      <th></th>\n",
              "      <th></th>\n",
              "      <th></th>\n",
              "      <th></th>\n",
              "      <th></th>\n",
              "      <th></th>\n",
              "      <th></th>\n",
              "    </tr>\n",
              "  </thead>\n",
              "  <tbody>\n",
              "    <tr>\n",
              "      <th>2018-10-25 15:31:05.277000192</th>\n",
              "      <td>0</td>\n",
              "      <td>9</td>\n",
              "      <td>b'8ea78d93-81b1-4a2e-8a77-dc07a71190a0'</td>\n",
              "      <td>9.484</td>\n",
              "      <td>1017.010010</td>\n",
              "      <td>b'empty'</td>\n",
              "      <td>2018-11-19 18:10:28.004439552</td>\n",
              "      <td>4.04</td>\n",
              "      <td>2018-11-19 18:11:56.187999744</td>\n",
              "      <td>1900-01-01</td>\n",
              "      <td>272.100006</td>\n",
              "      <td>-7.85</td>\n",
              "      <td>2018-10-25 15:31:05.277000192</td>\n",
              "      <td>9.25</td>\n",
              "      <td>b'port_timestamp'</td>\n",
              "      <td>61.985001</td>\n",
              "      <td>4.0996</td>\n",
              "      <td>15.158</td>\n",
              "      <td>704.400024</td>\n",
              "      <td>101701.0</td>\n",
              "      <td>665.658020</td>\n",
              "      <td>4.526604</td>\n",
              "      <td>-0.048048</td>\n",
              "      <td>-0.253329</td>\n",
              "      <td>NaN</td>\n",
              "      <td>NaN</td>\n",
              "      <td>NaN</td>\n",
              "      <td>NaN</td>\n",
              "      <td>NaN</td>\n",
              "      <td>NaN</td>\n",
              "      <td>NaN</td>\n",
              "      <td>NaN</td>\n",
              "      <td>NaN</td>\n",
              "      <td>NaN</td>\n",
              "      <td>NaN</td>\n",
              "      <td>NaN</td>\n",
              "      <td>29.0</td>\n",
              "      <td>29.0</td>\n",
              "      <td>29.0</td>\n",
              "      <td>29.0</td>\n",
              "      <td>29.0</td>\n",
              "      <td>29.0</td>\n",
              "      <td>29.0</td>\n",
              "      <td>29.0</td>\n",
              "      <td>29.0</td>\n",
              "      <td>13.0</td>\n",
              "      <td>29.0</td>\n",
              "      <td>29.0</td>\n",
              "      <td>29.0</td>\n",
              "      <td>13.0</td>\n",
              "      <td>29.0</td>\n",
              "      <td>29.0</td>\n",
              "      <td>29.0</td>\n",
              "      <td>29.0</td>\n",
              "      <td>29.0</td>\n",
              "      <td>29.0</td>\n",
              "      <td>29.0</td>\n",
              "      <td>29.0</td>\n",
              "      <td>29.0</td>\n",
              "      <td>12.0</td>\n",
              "      <td>29.0</td>\n",
              "      <td>12.0</td>\n",
              "      <td>29.0</td>\n",
              "      <td>12.0</td>\n",
              "      <td>29.0</td>\n",
              "      <td>12.0</td>\n",
              "      <td>29.0</td>\n",
              "      <td>28.0</td>\n",
              "      <td>29.0</td>\n",
              "      <td>12.0</td>\n",
              "      <td>29.0</td>\n",
              "      <td>29.0</td>\n",
              "      <td>39.93608</td>\n",
              "      <td>-70.88498</td>\n",
              "    </tr>\n",
              "    <tr>\n",
              "      <th>2018-10-25 15:32:08.371999744</th>\n",
              "      <td>1</td>\n",
              "      <td>9</td>\n",
              "      <td>b'5752e3fc-9764-45ed-ae27-203a97a38206'</td>\n",
              "      <td>9.340</td>\n",
              "      <td>1017.010010</td>\n",
              "      <td>b'empty'</td>\n",
              "      <td>2018-11-19 18:10:28.004516864</td>\n",
              "      <td>4.78</td>\n",
              "      <td>2018-11-19 18:11:56.187999744</td>\n",
              "      <td>1900-01-01</td>\n",
              "      <td>272.100006</td>\n",
              "      <td>-8.64</td>\n",
              "      <td>2018-10-25 15:32:08.371999744</td>\n",
              "      <td>9.25</td>\n",
              "      <td>b'port_timestamp'</td>\n",
              "      <td>57.820000</td>\n",
              "      <td>4.0992</td>\n",
              "      <td>15.159</td>\n",
              "      <td>720.000000</td>\n",
              "      <td>101701.0</td>\n",
              "      <td>680.400024</td>\n",
              "      <td>4.180861</td>\n",
              "      <td>-0.047281</td>\n",
              "      <td>-0.254076</td>\n",
              "      <td>NaN</td>\n",
              "      <td>NaN</td>\n",
              "      <td>NaN</td>\n",
              "      <td>NaN</td>\n",
              "      <td>NaN</td>\n",
              "      <td>NaN</td>\n",
              "      <td>NaN</td>\n",
              "      <td>NaN</td>\n",
              "      <td>NaN</td>\n",
              "      <td>NaN</td>\n",
              "      <td>NaN</td>\n",
              "      <td>NaN</td>\n",
              "      <td>29.0</td>\n",
              "      <td>29.0</td>\n",
              "      <td>29.0</td>\n",
              "      <td>29.0</td>\n",
              "      <td>29.0</td>\n",
              "      <td>29.0</td>\n",
              "      <td>29.0</td>\n",
              "      <td>29.0</td>\n",
              "      <td>29.0</td>\n",
              "      <td>13.0</td>\n",
              "      <td>29.0</td>\n",
              "      <td>29.0</td>\n",
              "      <td>29.0</td>\n",
              "      <td>13.0</td>\n",
              "      <td>29.0</td>\n",
              "      <td>29.0</td>\n",
              "      <td>29.0</td>\n",
              "      <td>29.0</td>\n",
              "      <td>29.0</td>\n",
              "      <td>29.0</td>\n",
              "      <td>29.0</td>\n",
              "      <td>29.0</td>\n",
              "      <td>29.0</td>\n",
              "      <td>12.0</td>\n",
              "      <td>29.0</td>\n",
              "      <td>12.0</td>\n",
              "      <td>29.0</td>\n",
              "      <td>12.0</td>\n",
              "      <td>29.0</td>\n",
              "      <td>12.0</td>\n",
              "      <td>29.0</td>\n",
              "      <td>28.0</td>\n",
              "      <td>29.0</td>\n",
              "      <td>12.0</td>\n",
              "      <td>29.0</td>\n",
              "      <td>29.0</td>\n",
              "      <td>39.93608</td>\n",
              "      <td>-70.88498</td>\n",
              "    </tr>\n",
              "    <tr>\n",
              "      <th>2018-10-25 15:32:41.592999936</th>\n",
              "      <td>2</td>\n",
              "      <td>9</td>\n",
              "      <td>b'4c7cc0de-4141-4a91-9b13-5f128910afde'</td>\n",
              "      <td>9.370</td>\n",
              "      <td>1016.940002</td>\n",
              "      <td>b'empty'</td>\n",
              "      <td>2018-11-19 18:10:28.004594688</td>\n",
              "      <td>2.51</td>\n",
              "      <td>2018-11-19 18:11:56.189000192</td>\n",
              "      <td>1900-01-01</td>\n",
              "      <td>272.100006</td>\n",
              "      <td>-9.98</td>\n",
              "      <td>2018-10-25 15:32:41.592999936</td>\n",
              "      <td>9.31</td>\n",
              "      <td>b'port_timestamp'</td>\n",
              "      <td>59.786999</td>\n",
              "      <td>4.1002</td>\n",
              "      <td>15.168</td>\n",
              "      <td>726.299988</td>\n",
              "      <td>101694.0</td>\n",
              "      <td>686.353455</td>\n",
              "      <td>4.332524</td>\n",
              "      <td>-0.046878</td>\n",
              "      <td>-0.254469</td>\n",
              "      <td>NaN</td>\n",
              "      <td>NaN</td>\n",
              "      <td>NaN</td>\n",
              "      <td>NaN</td>\n",
              "      <td>NaN</td>\n",
              "      <td>NaN</td>\n",
              "      <td>NaN</td>\n",
              "      <td>NaN</td>\n",
              "      <td>NaN</td>\n",
              "      <td>NaN</td>\n",
              "      <td>NaN</td>\n",
              "      <td>NaN</td>\n",
              "      <td>29.0</td>\n",
              "      <td>29.0</td>\n",
              "      <td>29.0</td>\n",
              "      <td>29.0</td>\n",
              "      <td>29.0</td>\n",
              "      <td>29.0</td>\n",
              "      <td>29.0</td>\n",
              "      <td>29.0</td>\n",
              "      <td>29.0</td>\n",
              "      <td>13.0</td>\n",
              "      <td>29.0</td>\n",
              "      <td>29.0</td>\n",
              "      <td>29.0</td>\n",
              "      <td>13.0</td>\n",
              "      <td>29.0</td>\n",
              "      <td>29.0</td>\n",
              "      <td>29.0</td>\n",
              "      <td>29.0</td>\n",
              "      <td>29.0</td>\n",
              "      <td>29.0</td>\n",
              "      <td>29.0</td>\n",
              "      <td>29.0</td>\n",
              "      <td>29.0</td>\n",
              "      <td>12.0</td>\n",
              "      <td>29.0</td>\n",
              "      <td>12.0</td>\n",
              "      <td>29.0</td>\n",
              "      <td>12.0</td>\n",
              "      <td>29.0</td>\n",
              "      <td>12.0</td>\n",
              "      <td>29.0</td>\n",
              "      <td>28.0</td>\n",
              "      <td>29.0</td>\n",
              "      <td>12.0</td>\n",
              "      <td>29.0</td>\n",
              "      <td>29.0</td>\n",
              "      <td>39.93608</td>\n",
              "      <td>-70.88498</td>\n",
              "    </tr>\n",
              "    <tr>\n",
              "      <th>2018-10-25 15:33:46.767000064</th>\n",
              "      <td>3</td>\n",
              "      <td>9</td>\n",
              "      <td>b'3a42994a-5673-4c59-87aa-31dc42a302e0'</td>\n",
              "      <td>9.454</td>\n",
              "      <td>1017.289978</td>\n",
              "      <td>b'empty'</td>\n",
              "      <td>2018-11-19 18:10:28.004674048</td>\n",
              "      <td>4.84</td>\n",
              "      <td>2018-11-19 18:11:56.189000192</td>\n",
              "      <td>1900-01-01</td>\n",
              "      <td>308.500000</td>\n",
              "      <td>-6.62</td>\n",
              "      <td>2018-10-25 15:33:46.767000064</td>\n",
              "      <td>9.25</td>\n",
              "      <td>b'port_timestamp'</td>\n",
              "      <td>62.786999</td>\n",
              "      <td>4.0992</td>\n",
              "      <td>15.163</td>\n",
              "      <td>806.799988</td>\n",
              "      <td>101729.0</td>\n",
              "      <td>762.425964</td>\n",
              "      <td>4.574810</td>\n",
              "      <td>-0.046086</td>\n",
              "      <td>-0.255241</td>\n",
              "      <td>NaN</td>\n",
              "      <td>NaN</td>\n",
              "      <td>NaN</td>\n",
              "      <td>NaN</td>\n",
              "      <td>NaN</td>\n",
              "      <td>NaN</td>\n",
              "      <td>NaN</td>\n",
              "      <td>NaN</td>\n",
              "      <td>NaN</td>\n",
              "      <td>NaN</td>\n",
              "      <td>NaN</td>\n",
              "      <td>NaN</td>\n",
              "      <td>29.0</td>\n",
              "      <td>29.0</td>\n",
              "      <td>29.0</td>\n",
              "      <td>29.0</td>\n",
              "      <td>29.0</td>\n",
              "      <td>29.0</td>\n",
              "      <td>29.0</td>\n",
              "      <td>29.0</td>\n",
              "      <td>29.0</td>\n",
              "      <td>13.0</td>\n",
              "      <td>29.0</td>\n",
              "      <td>29.0</td>\n",
              "      <td>29.0</td>\n",
              "      <td>13.0</td>\n",
              "      <td>29.0</td>\n",
              "      <td>29.0</td>\n",
              "      <td>29.0</td>\n",
              "      <td>29.0</td>\n",
              "      <td>29.0</td>\n",
              "      <td>29.0</td>\n",
              "      <td>29.0</td>\n",
              "      <td>29.0</td>\n",
              "      <td>29.0</td>\n",
              "      <td>12.0</td>\n",
              "      <td>29.0</td>\n",
              "      <td>12.0</td>\n",
              "      <td>29.0</td>\n",
              "      <td>12.0</td>\n",
              "      <td>29.0</td>\n",
              "      <td>12.0</td>\n",
              "      <td>29.0</td>\n",
              "      <td>28.0</td>\n",
              "      <td>29.0</td>\n",
              "      <td>12.0</td>\n",
              "      <td>29.0</td>\n",
              "      <td>29.0</td>\n",
              "      <td>39.93608</td>\n",
              "      <td>-70.88498</td>\n",
              "    </tr>\n",
              "    <tr>\n",
              "      <th>2018-10-25 15:34:51.168000000</th>\n",
              "      <td>4</td>\n",
              "      <td>9</td>\n",
              "      <td>b'd2c14fac-8bc4-405f-990c-013a1d9cd042'</td>\n",
              "      <td>9.355</td>\n",
              "      <td>1017.289978</td>\n",
              "      <td>b'empty'</td>\n",
              "      <td>2018-11-19 18:10:28.004754944</td>\n",
              "      <td>4.77</td>\n",
              "      <td>2018-11-19 18:11:56.189000192</td>\n",
              "      <td>1900-01-01</td>\n",
              "      <td>315.100006</td>\n",
              "      <td>-7.87</td>\n",
              "      <td>2018-10-25 15:34:51.168000000</td>\n",
              "      <td>9.25</td>\n",
              "      <td>b'port_timestamp'</td>\n",
              "      <td>58.616001</td>\n",
              "      <td>4.0991</td>\n",
              "      <td>15.160</td>\n",
              "      <td>743.900024</td>\n",
              "      <td>101729.0</td>\n",
              "      <td>702.985535</td>\n",
              "      <td>4.241693</td>\n",
              "      <td>-0.045304</td>\n",
              "      <td>-0.256003</td>\n",
              "      <td>NaN</td>\n",
              "      <td>NaN</td>\n",
              "      <td>NaN</td>\n",
              "      <td>NaN</td>\n",
              "      <td>NaN</td>\n",
              "      <td>NaN</td>\n",
              "      <td>NaN</td>\n",
              "      <td>NaN</td>\n",
              "      <td>NaN</td>\n",
              "      <td>NaN</td>\n",
              "      <td>NaN</td>\n",
              "      <td>NaN</td>\n",
              "      <td>29.0</td>\n",
              "      <td>29.0</td>\n",
              "      <td>29.0</td>\n",
              "      <td>29.0</td>\n",
              "      <td>29.0</td>\n",
              "      <td>29.0</td>\n",
              "      <td>29.0</td>\n",
              "      <td>29.0</td>\n",
              "      <td>29.0</td>\n",
              "      <td>13.0</td>\n",
              "      <td>29.0</td>\n",
              "      <td>29.0</td>\n",
              "      <td>29.0</td>\n",
              "      <td>13.0</td>\n",
              "      <td>29.0</td>\n",
              "      <td>29.0</td>\n",
              "      <td>29.0</td>\n",
              "      <td>29.0</td>\n",
              "      <td>29.0</td>\n",
              "      <td>29.0</td>\n",
              "      <td>29.0</td>\n",
              "      <td>29.0</td>\n",
              "      <td>29.0</td>\n",
              "      <td>12.0</td>\n",
              "      <td>29.0</td>\n",
              "      <td>12.0</td>\n",
              "      <td>29.0</td>\n",
              "      <td>12.0</td>\n",
              "      <td>29.0</td>\n",
              "      <td>12.0</td>\n",
              "      <td>29.0</td>\n",
              "      <td>28.0</td>\n",
              "      <td>29.0</td>\n",
              "      <td>12.0</td>\n",
              "      <td>29.0</td>\n",
              "      <td>29.0</td>\n",
              "      <td>39.93608</td>\n",
              "      <td>-70.88498</td>\n",
              "    </tr>\n",
              "  </tbody>\n",
              "</table>\n",
              "</div>"
            ],
            "text/plain": [
              "                               obs  deployment  ...       lat       lon\n",
              "time                                            ...                    \n",
              "2018-10-25 15:31:05.277000192    0           9  ...  39.93608 -70.88498\n",
              "2018-10-25 15:32:08.371999744    1           9  ...  39.93608 -70.88498\n",
              "2018-10-25 15:32:41.592999936    2           9  ...  39.93608 -70.88498\n",
              "2018-10-25 15:33:46.767000064    3           9  ...  39.93608 -70.88498\n",
              "2018-10-25 15:34:51.168000000    4           9  ...  39.93608 -70.88498\n",
              "\n",
              "[5 rows x 74 columns]"
            ]
          },
          "metadata": {
            "tags": []
          }
        },
        {
          "output_type": "execute_result",
          "data": {
            "text/plain": [
              "[<matplotlib.lines.Line2D at 0x7fa3d6343da0>]"
            ]
          },
          "metadata": {
            "tags": []
          },
          "execution_count": 9
        },
        {
          "output_type": "display_data",
          "data": {
            "image/png": "[encoded data removed]",
            "text/plain": [
              "<Figure size 432x288 with 1 Axes>"
            ]
          },
          "metadata": {
            "tags": []
          }
        }
      ]
    },
    {
      "cell_type": "markdown",
      "metadata": {
        "id": "58Sxt2ZOSpnf",
        "colab_type": "text"
      },
      "source": [
        "## Save the dataframe to a .csv file"
      ]
    },
    {
      "cell_type": "code",
      "metadata": {
        "id": "iDFiixJYtSMl",
        "colab_type": "code",
        "colab": {}
      },
      "source": [
        "# And now I'll use pandas to save it to a csv file to our colab workspace\n",
        "dfMet.to_csv('/MetData.csv')"
      ],
      "execution_count": 0,
      "outputs": []
    },
    {
      "cell_type": "markdown",
      "metadata": {
        "id": "ohhkJmEYS099",
        "colab_type": "text"
      },
      "source": [
        "## Lets download and save all the other datasets..."
      ]
    },
    {
      "cell_type": "code",
      "metadata": {
        "id": "xjONAfYefgrY",
        "colab_type": "code",
        "colab": {}
      },
      "source": [
        "ooi = OOI()\n",
        "OOISearch = ooi.search(instrument='flo',region='Coastal Pioneer',site='Central Offshore Profiler Mooring',node='Wire-Following Profiler',stream_method='recovered_wfp')\n",
        "OOISearch.data_availability()\n",
        "OOISearch.request_data(begin_date='2018-07-01', end_date='2019-01-01')\n",
        "OOISearch.check_status()\n",
        "OOISearch_list = OOISearch.to_xarray()\n",
        "dsFlo = OOISearch_list[0]\n",
        "dsFlo = dsFlo.swap_dims(({'obs':'time'}));\n",
        "dfFlo = dsFlo.to_dataframe()\n",
        "dfFlo.to_csv('/content/drive/My Drive/Research/OOI/OOI Data Labs/Flo.csv')"
      ],
      "execution_count": 0,
      "outputs": []
    },
    {
      "cell_type": "code",
      "metadata": {
        "id": "fk8wvlu6co2P",
        "colab_type": "code",
        "colab": {}
      },
      "source": [
        "ooi = OOI()\n",
        "OOISearch = ooi.search(instrument='ctd',region='Coastal Pioneer',site='Central Offshore Profiler Mooring',node='Wire-Following Profiler',stream_method='recovered_wfp')\n",
        "OOISearch.data_availability()\n",
        "OOISearch.request_data(begin_date='2018-07-01', end_date='2019-01-01')\n",
        "OOISearch.check_status()\n",
        "OOISearch_list = OOISearch.to_xarray()\n",
        "dsCTD = OOISearch_list[0]\n",
        "dsCTD = dsCTD.swap_dims(({'obs':'time'}));\n",
        "dfCTD = dsCTD.to_dataframe()"
      ],
      "execution_count": 0,
      "outputs": []
    },
    {
      "cell_type": "code",
      "metadata": {
        "id": "NSGIOYh0dv1Y",
        "colab_type": "code",
        "colab": {}
      },
      "source": [
        "ooi = OOI()\n",
        "OOISearch = ooi.search(instrument='oxygen',region='Coastal Pioneer',site='Central Offshore Profiler Mooring',node='Wire-Following Profiler',stream_method='recovered_wfp')\n",
        "OOISearch.data_availability()\n",
        "OOISearch.request_data(begin_date='2018-07-01', end_date='2019-01-01')\n",
        "OOISearch.check_status()\n",
        "OOISearch_list = OOISearch.to_xarray()\n",
        "dsOxy = OOISearch_list[0]\n",
        "dsOxy = dsOxy.swap_dims(({'obs':'time'}));\n",
        "dfOxy = dsOxy.to_dataframe()"
      ],
      "execution_count": 0,
      "outputs": []
    },
    {
      "cell_type": "code",
      "metadata": {
        "id": "OI0ZRC00iCo-",
        "colab_type": "code",
        "colab": {}
      },
      "source": [
        "ooi = OOI()\n",
        "OOISearch = ooi.search(instrument='PAR',region='Coastal Pioneer',site='Central Offshore Profiler Mooring',node='Wire-Following Profiler',stream_method='recovered_wfp')\n",
        "OOISearch.data_availability()\n",
        "OOISearch.request_data(begin_date='2018-07-01', end_date='2019-01-01')\n",
        "OOISearch.check_status()\n",
        "OOISearch_list = OOISearch.to_xarray()\n",
        "dsPar = OOISearch_list[0]\n",
        "dsPar = dsPar.swap_dims(({'obs':'time'}));\n",
        "dfPar = dsPar.to_dataframe()"
      ],
      "execution_count": 0,
      "outputs": []
    },
    {
      "cell_type": "code",
      "metadata": {
        "id": "4u9VlxYqgnrY",
        "colab_type": "code",
        "colab": {}
      },
      "source": [
        "dfCTD.to_csv('CTD.csv')\n",
        "dfOxy.to_csv('Oxy.csv')\n",
        "dfPar.to_csv('Par.csv')\n",
        "dfMet.to_csv('Met.csv')\n",
        "dfMet.to_csv('Flo.csv')"
      ],
      "execution_count": 0,
      "outputs": []
    },
    {
      "cell_type": "markdown",
      "metadata": {
        "id": "E86zfcIATXNV",
        "colab_type": "text"
      },
      "source": [
        "## Example of reading in and merging multiple dataframes\n",
        "\n",
        "If we went ahead and saved all the data to csv files, we can read them back in if they're not already in our workspace."
      ]
    },
    {
      "cell_type": "code",
      "metadata": {
        "id": "xTYS0ofWUt9Y",
        "colab_type": "code",
        "colab": {}
      },
      "source": [
        "from glob import glob\n",
        "import pandas as pd\n",
        "\n",
        "# Let's get a list of the csv files that we just saved\n",
        "files = glob('*.csv')\n",
        "files.sort() # sort them into alphabetical order\n",
        "display(files) # print out the files\n",
        "\n",
        "# We can ready in each of the files to their own dataframe.  We made them with pandas,\n",
        "# saved them to csv, and now will read them abck in with pandas\n",
        "df0 = pd.read_csv(files[0])\n",
        "df1 = pd.read_csv(files[1])\n",
        "df2 = pd.read_csv(files[2])\n",
        "df3 = pd.read_csv(files[3])\n",
        "df4 = pd.read_csv(files[4])"
      ],
      "execution_count": 0,
      "outputs": []
    },
    {
      "cell_type": "markdown",
      "metadata": {
        "id": "-r5FKhu-U5Aq",
        "colab_type": "text"
      },
      "source": [
        "There a too many columns of stuff that we don't need in these dataframes, so let's clean it up and only keep the variables we want."
      ]
    },
    {
      "cell_type": "code",
      "metadata": {
        "id": "s8RHVvzdU6-H",
        "colab_type": "code",
        "colab": {}
      },
      "source": [
        "\n",
        "# There's only a few columns from each dataframe I actually want, so I'm going to select them specifically\n",
        "df0 = df0[['time','ctdpf_ckl_seawater_temperature','ctdpf_ckl_seawater_pressure','practical_salinity','density']] # CTD\n",
        "df1 = df1[['time','fluorometric_chlorophyll_a','fluorometric_cdom','optical_backscatter']] #Flo\n",
        "df2 = df2[['time','barometric_pressure','air_temperature','eastward_wind_velocity','sea_surface_temperature','northward_wind_velocity','met_current_direction','met_relwind_direction','met_relwind_speed']] # MET\n",
        "df3 = df3[['time','dofst_k_oxygen_l2']] # DO\n",
        "df4 = df4[['time','parad_k_par']] #PAR\n"
      ],
      "execution_count": 0,
      "outputs": []
    },
    {
      "cell_type": "markdown",
      "metadata": {
        "id": "5cu-vgNrVEEx",
        "colab_type": "text"
      },
      "source": [
        "For each csv file we read in, pandas doesn't know that the time column is actually time. In a csv file, it just looks like text, so let's tell it to make it a datetime object and make it the index. Once we have a real datetime value for the index, we can resample based on the datetime.  Here it is to 1 minute intervals."
      ]
    },
    {
      "cell_type": "code",
      "metadata": {
        "id": "bMFXjhrjVDad",
        "colab_type": "code",
        "colab": {}
      },
      "source": [
        "df0['time']= pd.to_datetime(df0.time) # set time to be itself, but as a datetime type rather than string\n",
        "df0 = df0.set_index('time') # set the index to time\n",
        "df0 = df0.resample('1T').mean() # resample to 1 minute intervals by taking the mean\n",
        "df1['time']= pd.to_datetime(df1.time)\n",
        "df1 = df1.set_index('time')\n",
        "df1 = df1.resample('1T').mean()\n",
        "df2['time']= pd.to_datetime(df2.time)\n",
        "df2 = df2.set_index('time')\n",
        "df2 = df2.resample('1T').mean()\n",
        "df3['time']= pd.to_datetime(df3.time)\n",
        "df3 = df3.set_index('time')\n",
        "df3 = df3.resample('1T').mean()\n",
        "df4['time']= pd.to_datetime(df4.time)\n",
        "df4 = df4.set_index('time')\n",
        "df4 = df4.resample('1T').mean()"
      ],
      "execution_count": 0,
      "outputs": []
    },
    {
      "cell_type": "markdown",
      "metadata": {
        "id": "WLDrAYH0VQKn",
        "colab_type": "text"
      },
      "source": [
        "The last thing to do is merge the new dataframes together."
      ]
    },
    {
      "cell_type": "code",
      "metadata": {
        "id": "ux3Y3Hd3VQkW",
        "colab_type": "code",
        "colab": {}
      },
      "source": [
        "# Now that everything has a time and is in the same 1-minute interval, we can merge\n",
        "# the dataframes together into one big table, but we have to do it one at a time.\n",
        "df_merged =df0.merge(df1,on='time') # first, merge df0 and df1\n",
        "df_merged =df_merged.merge(df2,on='time') # then add on df2\n",
        "df_merged =df_merged.merge(df3,on='time') # then add on df3\n",
        "df_merged =df_merged.merge(df4,on='time') # then add on df4"
      ],
      "execution_count": 0,
      "outputs": []
    },
    {
      "cell_type": "markdown",
      "metadata": {
        "id": "paCFJoF8VZAz",
        "colab_type": "text"
      },
      "source": [
        "Now, if we want, we can save the whole thing to one csv file and do the rest of our work from there."
      ]
    },
    {
      "cell_type": "code",
      "metadata": {
        "id": "4da3jAcuVZgV",
        "colab_type": "code",
        "colab": {}
      },
      "source": [
        "df_merged.to_csv('hurricaneMerged.csv') # now we can save it as one csv file"
      ],
      "execution_count": 0,
      "outputs": []
    }
  ]
}